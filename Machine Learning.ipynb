{
 "cells": [
  {
   "cell_type": "markdown",
   "id": "a0aba371",
   "metadata": {
    "papermill": {
     "duration": 0.041502,
     "end_time": "2022-02-12T20:38:32.442900",
     "exception": false,
     "start_time": "2022-02-12T20:38:32.401398",
     "status": "completed"
    },
    "tags": []
   },
   "source": [
    "# **Skin cancer**"
   ]
  },
  {
   "cell_type": "markdown",
   "id": "6615174f",
   "metadata": {
    "papermill": {
     "duration": 0.031177,
     "end_time": "2022-02-12T20:38:32.563799",
     "exception": false,
     "start_time": "2022-02-12T20:38:32.532622",
     "status": "completed"
    },
    "tags": []
   },
   "source": [
    "## Librairies et fonctions utiles"
   ]
  },
  {
   "cell_type": "code",
   "execution_count": 1,
   "id": "67ff5d9c",
   "metadata": {
    "_cell_guid": "b1076dfc-b9ad-4769-8c92-a6c4dae69d19",
    "_uuid": "8f2839f25d086af736a60e9eeb907d3b93b6e0e5",
    "execution": {
     "iopub.execute_input": "2022-02-12T20:38:32.636677Z",
     "iopub.status.busy": "2022-02-12T20:38:32.635881Z",
     "iopub.status.idle": "2022-02-12T20:38:33.611451Z",
     "shell.execute_reply": "2022-02-12T20:38:33.610873Z",
     "shell.execute_reply.started": "2022-02-12T20:30:59.693023Z"
    },
    "papermill": {
     "duration": 1.018214,
     "end_time": "2022-02-12T20:38:33.611606",
     "exception": false,
     "start_time": "2022-02-12T20:38:32.593392",
     "status": "completed"
    },
    "tags": []
   },
   "outputs": [],
   "source": [
    "# Pandas : librairie de manipulation de données\n",
    "# NumPy : librairie de calcul scientifique\n",
    "# MatPlotLib : librairie de visualisation et graphiques\n",
    "import pandas as pd\n",
    "import numpy as np\n",
    "from matplotlib import pyplot as plt\n",
    "import seaborn as sns\n",
    "from tqdm  import tqdm\n",
    "from sklearn import metrics\n",
    "from sklearn import preprocessing\n",
    "from sklearn import model_selection\n",
    "from sklearn.metrics import classification_report, confusion_matrix, roc_curve, roc_auc_score,auc, accuracy_score\n",
    "\n",
    "from sklearn.model_selection import train_test_split\n",
    "\n"
   ]
  },
  {
   "cell_type": "markdown",
   "id": "b34776fc",
   "metadata": {
    "papermill": {
     "duration": 0.029456,
     "end_time": "2022-02-12T20:38:33.671538",
     "exception": false,
     "start_time": "2022-02-12T20:38:33.642082",
     "status": "completed"
    },
    "tags": []
   },
   "source": [
    "### la dataset"
   ]
  },
  {
   "cell_type": "markdown",
   "id": "ab1cead0",
   "metadata": {
    "papermill": {
     "duration": 0.029371,
     "end_time": "2022-02-12T20:38:33.731062",
     "exception": false,
     "start_time": "2022-02-12T20:38:33.701691",
     "status": "completed"
    },
    "tags": []
   },
   "source": [
    "On charge le dataset MNIST :"
   ]
  },
  {
   "cell_type": "markdown",
   "id": "970d3dbe",
   "metadata": {
    "papermill": {
     "duration": 0.029464,
     "end_time": "2022-02-12T20:38:33.790404",
     "exception": false,
     "start_time": "2022-02-12T20:38:33.760940",
     "status": "completed"
    },
    "tags": []
   },
   "source": [
    "Je prépare 2 dataset, un pour XGBoost ."
   ]
  },
  {
   "cell_type": "code",
   "execution_count": 2,
   "id": "9f2f83e0",
   "metadata": {
    "execution": {
     "iopub.execute_input": "2022-02-12T20:38:33.854533Z",
     "iopub.status.busy": "2022-02-12T20:38:33.853987Z",
     "iopub.status.idle": "2022-02-12T20:38:36.226909Z",
     "shell.execute_reply": "2022-02-12T20:38:36.225933Z",
     "shell.execute_reply.started": "2022-02-12T20:30:59.701973Z"
    },
    "papermill": {
     "duration": 2.407043,
     "end_time": "2022-02-12T20:38:36.227059",
     "exception": false,
     "start_time": "2022-02-12T20:38:33.820016",
     "status": "completed"
    },
    "tags": []
   },
   "outputs": [],
   "source": [
    "df = pd.read_csv(r\"C:\\Users\\wissal\\OneDrive\\Documents\\BBM\\archive (5)\\hmnist_28_28_L.csv\")#celui ci est seulement pour un essay \n",
    "dfo = pd.read_csv(r\"C:\\Users\\wissal\\OneDrive\\Documents\\BBM\\archive (5)\\hmnist_28_28_L.csv\")#dfo cdelui qui va être utilisé dans le ML."
   ]
  },
  {
   "cell_type": "code",
   "execution_count": 3,
   "id": "149cd9a7",
   "metadata": {
    "execution": {
     "iopub.execute_input": "2022-02-12T20:38:36.295778Z",
     "iopub.status.busy": "2022-02-12T20:38:36.295134Z",
     "iopub.status.idle": "2022-02-12T20:38:36.311560Z",
     "shell.execute_reply": "2022-02-12T20:38:36.311995Z",
     "shell.execute_reply.started": "2022-02-12T20:31:01.298924Z"
    },
    "papermill": {
     "duration": 0.054665,
     "end_time": "2022-02-12T20:38:36.312136",
     "exception": false,
     "start_time": "2022-02-12T20:38:36.257471",
     "status": "completed"
    },
    "tags": []
   },
   "outputs": [
    {
     "data": {
      "text/html": [
       "<div>\n",
       "<style scoped>\n",
       "    .dataframe tbody tr th:only-of-type {\n",
       "        vertical-align: middle;\n",
       "    }\n",
       "\n",
       "    .dataframe tbody tr th {\n",
       "        vertical-align: top;\n",
       "    }\n",
       "\n",
       "    .dataframe thead th {\n",
       "        text-align: right;\n",
       "    }\n",
       "</style>\n",
       "<table border=\"1\" class=\"dataframe\">\n",
       "  <thead>\n",
       "    <tr style=\"text-align: right;\">\n",
       "      <th></th>\n",
       "      <th>pixel0000</th>\n",
       "      <th>pixel0001</th>\n",
       "      <th>pixel0002</th>\n",
       "      <th>pixel0003</th>\n",
       "      <th>pixel0004</th>\n",
       "      <th>pixel0005</th>\n",
       "      <th>pixel0006</th>\n",
       "      <th>pixel0007</th>\n",
       "      <th>pixel0008</th>\n",
       "      <th>pixel0009</th>\n",
       "      <th>...</th>\n",
       "      <th>pixel0775</th>\n",
       "      <th>pixel0776</th>\n",
       "      <th>pixel0777</th>\n",
       "      <th>pixel0778</th>\n",
       "      <th>pixel0779</th>\n",
       "      <th>pixel0780</th>\n",
       "      <th>pixel0781</th>\n",
       "      <th>pixel0782</th>\n",
       "      <th>pixel0783</th>\n",
       "      <th>label</th>\n",
       "    </tr>\n",
       "  </thead>\n",
       "  <tbody>\n",
       "    <tr>\n",
       "      <th>0</th>\n",
       "      <td>169</td>\n",
       "      <td>171</td>\n",
       "      <td>170</td>\n",
       "      <td>177</td>\n",
       "      <td>181</td>\n",
       "      <td>182</td>\n",
       "      <td>181</td>\n",
       "      <td>185</td>\n",
       "      <td>194</td>\n",
       "      <td>192</td>\n",
       "      <td>...</td>\n",
       "      <td>184</td>\n",
       "      <td>186</td>\n",
       "      <td>185</td>\n",
       "      <td>180</td>\n",
       "      <td>157</td>\n",
       "      <td>140</td>\n",
       "      <td>140</td>\n",
       "      <td>159</td>\n",
       "      <td>165</td>\n",
       "      <td>2</td>\n",
       "    </tr>\n",
       "    <tr>\n",
       "      <th>1</th>\n",
       "      <td>19</td>\n",
       "      <td>57</td>\n",
       "      <td>105</td>\n",
       "      <td>140</td>\n",
       "      <td>149</td>\n",
       "      <td>148</td>\n",
       "      <td>144</td>\n",
       "      <td>155</td>\n",
       "      <td>170</td>\n",
       "      <td>170</td>\n",
       "      <td>...</td>\n",
       "      <td>172</td>\n",
       "      <td>175</td>\n",
       "      <td>160</td>\n",
       "      <td>144</td>\n",
       "      <td>114</td>\n",
       "      <td>89</td>\n",
       "      <td>47</td>\n",
       "      <td>18</td>\n",
       "      <td>18</td>\n",
       "      <td>2</td>\n",
       "    </tr>\n",
       "    <tr>\n",
       "      <th>2</th>\n",
       "      <td>155</td>\n",
       "      <td>163</td>\n",
       "      <td>161</td>\n",
       "      <td>167</td>\n",
       "      <td>167</td>\n",
       "      <td>172</td>\n",
       "      <td>155</td>\n",
       "      <td>152</td>\n",
       "      <td>165</td>\n",
       "      <td>175</td>\n",
       "      <td>...</td>\n",
       "      <td>163</td>\n",
       "      <td>178</td>\n",
       "      <td>157</td>\n",
       "      <td>166</td>\n",
       "      <td>167</td>\n",
       "      <td>148</td>\n",
       "      <td>141</td>\n",
       "      <td>136</td>\n",
       "      <td>115</td>\n",
       "      <td>2</td>\n",
       "    </tr>\n",
       "    <tr>\n",
       "      <th>3</th>\n",
       "      <td>25</td>\n",
       "      <td>71</td>\n",
       "      <td>116</td>\n",
       "      <td>139</td>\n",
       "      <td>136</td>\n",
       "      <td>153</td>\n",
       "      <td>148</td>\n",
       "      <td>161</td>\n",
       "      <td>172</td>\n",
       "      <td>162</td>\n",
       "      <td>...</td>\n",
       "      <td>125</td>\n",
       "      <td>135</td>\n",
       "      <td>138</td>\n",
       "      <td>137</td>\n",
       "      <td>111</td>\n",
       "      <td>71</td>\n",
       "      <td>32</td>\n",
       "      <td>16</td>\n",
       "      <td>16</td>\n",
       "      <td>2</td>\n",
       "    </tr>\n",
       "    <tr>\n",
       "      <th>4</th>\n",
       "      <td>129</td>\n",
       "      <td>162</td>\n",
       "      <td>181</td>\n",
       "      <td>196</td>\n",
       "      <td>205</td>\n",
       "      <td>208</td>\n",
       "      <td>205</td>\n",
       "      <td>213</td>\n",
       "      <td>225</td>\n",
       "      <td>224</td>\n",
       "      <td>...</td>\n",
       "      <td>210</td>\n",
       "      <td>197</td>\n",
       "      <td>172</td>\n",
       "      <td>190</td>\n",
       "      <td>195</td>\n",
       "      <td>193</td>\n",
       "      <td>181</td>\n",
       "      <td>147</td>\n",
       "      <td>88</td>\n",
       "      <td>2</td>\n",
       "    </tr>\n",
       "  </tbody>\n",
       "</table>\n",
       "<p>5 rows × 785 columns</p>\n",
       "</div>"
      ],
      "text/plain": [
       "   pixel0000  pixel0001  pixel0002  pixel0003  pixel0004  pixel0005  \\\n",
       "0        169        171        170        177        181        182   \n",
       "1         19         57        105        140        149        148   \n",
       "2        155        163        161        167        167        172   \n",
       "3         25         71        116        139        136        153   \n",
       "4        129        162        181        196        205        208   \n",
       "\n",
       "   pixel0006  pixel0007  pixel0008  pixel0009  ...  pixel0775  pixel0776  \\\n",
       "0        181        185        194        192  ...        184        186   \n",
       "1        144        155        170        170  ...        172        175   \n",
       "2        155        152        165        175  ...        163        178   \n",
       "3        148        161        172        162  ...        125        135   \n",
       "4        205        213        225        224  ...        210        197   \n",
       "\n",
       "   pixel0777  pixel0778  pixel0779  pixel0780  pixel0781  pixel0782  \\\n",
       "0        185        180        157        140        140        159   \n",
       "1        160        144        114         89         47         18   \n",
       "2        157        166        167        148        141        136   \n",
       "3        138        137        111         71         32         16   \n",
       "4        172        190        195        193        181        147   \n",
       "\n",
       "   pixel0783  label  \n",
       "0        165      2  \n",
       "1         18      2  \n",
       "2        115      2  \n",
       "3         16      2  \n",
       "4         88      2  \n",
       "\n",
       "[5 rows x 785 columns]"
      ]
     },
     "execution_count": 3,
     "metadata": {},
     "output_type": "execute_result"
    }
   ],
   "source": [
    "df.head()"
   ]
  },
  {
   "cell_type": "code",
   "execution_count": 4,
   "id": "b1547d73",
   "metadata": {
    "execution": {
     "iopub.execute_input": "2022-02-12T20:38:36.378512Z",
     "iopub.status.busy": "2022-02-12T20:38:36.377824Z",
     "iopub.status.idle": "2022-02-12T20:38:36.380580Z",
     "shell.execute_reply": "2022-02-12T20:38:36.381014Z",
     "shell.execute_reply.started": "2022-02-12T20:31:01.320531Z"
    },
    "papermill": {
     "duration": 0.038223,
     "end_time": "2022-02-12T20:38:36.381152",
     "exception": false,
     "start_time": "2022-02-12T20:38:36.342929",
     "status": "completed"
    },
    "tags": []
   },
   "outputs": [
    {
     "data": {
      "text/plain": [
       "(10015, 785)"
      ]
     },
     "execution_count": 4,
     "metadata": {},
     "output_type": "execute_result"
    }
   ],
   "source": [
    "df.shape"
   ]
  },
  {
   "cell_type": "markdown",
   "id": "39145afd",
   "metadata": {
    "papermill": {
     "duration": 0.030545,
     "end_time": "2022-02-12T20:38:36.442497",
     "exception": false,
     "start_time": "2022-02-12T20:38:36.411952",
     "status": "completed"
    },
    "tags": []
   },
   "source": [
    "On a 785 colonnes :\n",
    "\n",
    "une colonne 'label' identifiant le chiffre\n",
    "et 784 colonnes de pixels (image de 28x28 pixels \"aplatie\")"
   ]
  },
  {
   "cell_type": "code",
   "execution_count": 5,
   "id": "8786b3a7",
   "metadata": {
    "execution": {
     "iopub.execute_input": "2022-02-12T20:38:36.510236Z",
     "iopub.status.busy": "2022-02-12T20:38:36.509690Z",
     "iopub.status.idle": "2022-02-12T20:38:36.517683Z",
     "shell.execute_reply": "2022-02-12T20:38:36.517186Z",
     "shell.execute_reply.started": "2022-02-12T20:31:01.328918Z"
    },
    "papermill": {
     "duration": 0.044555,
     "end_time": "2022-02-12T20:38:36.517817",
     "exception": false,
     "start_time": "2022-02-12T20:38:36.473262",
     "status": "completed"
    },
    "tags": []
   },
   "outputs": [
    {
     "data": {
      "text/plain": [
       "4    6705\n",
       "6    1113\n",
       "2    1099\n",
       "1     514\n",
       "0     327\n",
       "5     142\n",
       "3     115\n",
       "Name: label, dtype: int64"
      ]
     },
     "execution_count": 5,
     "metadata": {},
     "output_type": "execute_result"
    }
   ],
   "source": [
    "df.label.value_counts()"
   ]
  },
  {
   "cell_type": "markdown",
   "id": "50b0d1cb",
   "metadata": {
    "execution": {
     "iopub.execute_input": "2022-02-11T12:08:59.810331Z",
     "iopub.status.busy": "2022-02-11T12:08:59.809745Z",
     "iopub.status.idle": "2022-02-11T12:08:59.814938Z",
     "shell.execute_reply": "2022-02-11T12:08:59.814049Z",
     "shell.execute_reply.started": "2022-02-11T12:08:59.810292Z"
    },
    "papermill": {
     "duration": 0.030589,
     "end_time": "2022-02-12T20:38:36.580136",
     "exception": false,
     "start_time": "2022-02-12T20:38:36.549547",
     "status": "completed"
    },
    "tags": []
   },
   "source": [
    "On a un dataframe qui est plutôt déséquilibré."
   ]
  },
  {
   "cell_type": "code",
   "execution_count": 6,
   "id": "e138808d",
   "metadata": {
    "execution": {
     "iopub.execute_input": "2022-02-12T20:38:36.646077Z",
     "iopub.status.busy": "2022-02-12T20:38:36.645543Z",
     "iopub.status.idle": "2022-02-12T20:38:36.650437Z",
     "shell.execute_reply": "2022-02-12T20:38:36.649840Z",
     "shell.execute_reply.started": "2022-02-12T20:31:01.342835Z"
    },
    "papermill": {
     "duration": 0.039777,
     "end_time": "2022-02-12T20:38:36.650574",
     "exception": false,
     "start_time": "2022-02-12T20:38:36.610797",
     "status": "completed"
    },
    "tags": []
   },
   "outputs": [
    {
     "name": "stdout",
     "output_type": "stream",
     "text": [
      "['0', '1', '2', '3', '4', '5', '6']\n"
     ]
    }
   ],
   "source": [
    "labels=['0','1','2','3','4','5','6']\n",
    "print(labels)"
   ]
  },
  {
   "cell_type": "markdown",
   "id": "97cba00e",
   "metadata": {
    "papermill": {
     "duration": 0.030829,
     "end_time": "2022-02-12T20:38:36.713461",
     "exception": false,
     "start_time": "2022-02-12T20:38:36.682632",
     "status": "completed"
    },
    "tags": []
   },
   "source": [
    "#### Labels:\n",
    "\n",
    "\n",
    "4:\n",
    "Les nævus mélanocytaires sont des néoplasmes bénins des mélanocytes et apparaissent dans une myriade de variantes, qui sont toutes incluses dans notre série. Les variantes peuvent différer de manière significative d'un point de vue dermatoscopique.\n",
    "[6705 images]\n",
    "\n",
    "6:\n",
    "Le mélanome est un néoplasme malin dérivé des mélanocytes qui peut apparaître sous différentes variantes. S'il est excisé à un stade précoce, il peut être guéri par une simple excision chirurgicale. Les mélanomes peuvent être invasifs ou non invasifs (in situ). Nous avons inclus toutes les variantes de mélanome, y compris le mélanome in situ, mais nous avons exclu les mélanomes non pigmentés, sous-unguéaux, oculaires ou muqueux.\n",
    "[1113 images]\n",
    "\n",
    "2:\n",
    "\"La kératose bénigne\" est une classe générique qui comprend les kératoses séborrhéiques (\"verrue sénile\"), le lentigo solaire - qui peut être considéré comme une variante plate de la kératose séborrhéique - et les kératoses lichen-planus like (LPLK), qui correspondent à une kératose séborrhéique ou un lentigo solaire avec inflammation et régression [22]. Les trois sous-groupes peuvent sembler différents sur le plan dermatoscopique, mais nous les avons regroupés car ils sont similaires sur le plan biologique et souvent rapportés sous le même terme générique sur le plan histopathologique. D'un point de vue dermatoscopique, les kératoses de type lichen plan sont particulièrement problématiques car elles peuvent présenter des caractéristiques morphologiques imitant le mélanome [23] et sont souvent biopsiées ou excisées pour des raisons diagnostiques.\n",
    "[1099 images]\n",
    "\n",
    "1:\n",
    "Le carcinome basocellulaire est une variante courante du cancer épithélial de la peau qui donne rarement lieu à des métastases mais qui se développe de façon destructrice s'il n'est pas traité. Il se présente sous différentes variantes morphologiques (plat, nodulaire, pigmenté, kystique, etc.) [21], qui sont toutes incluses dans cet ensemble.\n",
    "[514 images]\n",
    "\n",
    "0:\n",
    "Les kératoses actiniques (kératoses solaires) et le carcinome intra-épithélial (maladie de Bowen) sont des variantes courantes et non invasives du carcinome épidermoïde qui peuvent être traitées localement sans chirurgie. Certains auteurs les considèrent comme des précurseurs de carcinomes spinocellulaires et non comme de véritables carci- nomes. On s'accorde cependant à dire que ces lésions peuvent évoluer vers un carcinome spinocellulaire invasif - qui n'est généralement pas pigmenté. Les deux néoplasmes présentent généralement une desquamation de la surface et sont souvent dépourvus de pigment. Les kératoses actiniques sont plus fréquentes sur le visage et la maladie de Bowen est plus fréquente sur les autres parties du corps. Comme les deux types de kératoses actiniques sont provoqués par les rayons UV, la peau environnante est généralement caractérisée par des lésions solaires graves, sauf dans les cas de la maladie de Bowen qui sont causés par une infection par le virus du papillome humain et non par les UV. Des variantes pigmentées existent pour la maladie de Bowen [19] et pour les kératoses actiniques [20]. Les deux sont inclus dans cet ensemble.\n",
    "[327 images]\n",
    "\n",
    "5:\n",
    "Les lésions vasculaires cutanées de cet ensemble de données vont des angiomes du cerisier aux angiokératomes [25] et aux granulomes pyogènes [26]. Les hémorragies sont également incluses dans cette catégorie.\n",
    "[142 images]\n",
    "\n",
    "3:\n",
    "Le dermatofibrome est une lésion cutanée bénigne considérée soit comme une prolifération bénigne, soit comme une réaction inflammatoire à un traumatisme minime. Il est brun et présente souvent une zone centrale de fibrose à la dermatoscopie [24].\n",
    "[115 images]"
   ]
  },
  {
   "cell_type": "markdown",
   "id": "0204e8f2",
   "metadata": {
    "papermill": {
     "duration": 0.035199,
     "end_time": "2022-02-12T20:38:36.779840",
     "exception": false,
     "start_time": "2022-02-12T20:38:36.744641",
     "status": "completed"
    },
    "tags": []
   },
   "source": [
    "On convertit les lignes de pixels en matrices (images) :"
   ]
  },
  {
   "cell_type": "code",
   "execution_count": 7,
   "id": "c7706e5d",
   "metadata": {
    "execution": {
     "iopub.execute_input": "2022-02-12T20:38:36.870486Z",
     "iopub.status.busy": "2022-02-12T20:38:36.868878Z",
     "iopub.status.idle": "2022-02-12T20:38:36.894222Z",
     "shell.execute_reply": "2022-02-12T20:38:36.893706Z",
     "shell.execute_reply.started": "2022-02-12T20:31:01.349415Z"
    },
    "papermill": {
     "duration": 0.082642,
     "end_time": "2022-02-12T20:38:36.894342",
     "exception": false,
     "start_time": "2022-02-12T20:38:36.811700",
     "status": "completed"
    },
    "tags": []
   },
   "outputs": [],
   "source": [
    "n_samples = len(df.index)\n",
    "images = np.array(df.drop(['label'],axis=1))\n",
    "images = images.reshape(n_samples,28,28)"
   ]
  },
  {
   "cell_type": "markdown",
   "id": "4e739b03",
   "metadata": {
    "papermill": {
     "duration": 0.031224,
     "end_time": "2022-02-12T20:38:36.957218",
     "exception": false,
     "start_time": "2022-02-12T20:38:36.925994",
     "status": "completed"
    },
    "tags": []
   },
   "source": [
    "## Visualisation des images"
   ]
  },
  {
   "cell_type": "markdown",
   "id": "bfd28497",
   "metadata": {
    "papermill": {
     "duration": 0.031356,
     "end_time": "2022-02-12T20:38:37.019788",
     "exception": false,
     "start_time": "2022-02-12T20:38:36.988432",
     "status": "completed"
    },
    "tags": []
   },
   "source": [
    "On affiche les 50 premières:"
   ]
  },
  {
   "cell_type": "code",
   "execution_count": 8,
   "id": "e56d823c",
   "metadata": {
    "execution": {
     "iopub.execute_input": "2022-02-12T20:38:37.091726Z",
     "iopub.status.busy": "2022-02-12T20:38:37.091022Z",
     "iopub.status.idle": "2022-02-12T20:38:38.932427Z",
     "shell.execute_reply": "2022-02-12T20:38:38.932863Z",
     "shell.execute_reply.started": "2022-02-12T20:31:01.403290Z"
    },
    "papermill": {
     "duration": 1.881489,
     "end_time": "2022-02-12T20:38:38.933011",
     "exception": false,
     "start_time": "2022-02-12T20:38:37.051522",
     "status": "completed"
    },
    "tags": []
   },
   "outputs": [
    {
     "name": "stderr",
     "output_type": "stream",
     "text": [
      "100%|██████████████████████████████████████████████████████████████████████████████████| 49/49 [00:03<00:00, 12.52it/s]\n"
     ]
    },
    {
     "data": {
      "image/png": "[encoded data removed]",
      "text/plain": [
       "<Figure size 720x1440 with 49 Axes>"
      ]
     },
     "metadata": {
      "needs_background": "light"
     },
     "output_type": "display_data"
    }
   ],
   "source": [
    "plt.figure(figsize=(10,20))\n",
    "for i in tqdm(range(0,49)) :\n",
    "    plt.subplot(10,5,i+1)\n",
    "    plt.axis('off')\n",
    "    plt.imshow(images[i], cmap=\"gray_r\")\n",
    "    plt.title(labels[df.label[i]])"
   ]
  },
  {
   "cell_type": "markdown",
   "id": "bc67ae63",
   "metadata": {
    "papermill": {
     "duration": 0.034105,
     "end_time": "2022-02-12T20:38:39.001580",
     "exception": false,
     "start_time": "2022-02-12T20:38:38.967475",
     "status": "completed"
    },
    "tags": []
   },
   "source": [
    "## Machine Learning"
   ]
  },
  {
   "cell_type": "markdown",
   "id": "77c3c1c3",
   "metadata": {
    "papermill": {
     "duration": 0.034082,
     "end_time": "2022-02-12T20:38:39.069613",
     "exception": false,
     "start_time": "2022-02-12T20:38:39.035531",
     "status": "completed"
    },
    "tags": []
   },
   "source": [
    "On crée la cible y (colonne 'label') :"
   ]
  },
  {
   "cell_type": "code",
   "execution_count": 9,
   "id": "749244e3",
   "metadata": {
    "execution": {
     "iopub.execute_input": "2022-02-12T20:38:39.143778Z",
     "iopub.status.busy": "2022-02-12T20:38:39.142161Z",
     "iopub.status.idle": "2022-02-12T20:38:39.144338Z",
     "shell.execute_reply": "2022-02-12T20:38:39.144728Z",
     "shell.execute_reply.started": "2022-02-12T20:31:03.374979Z"
    },
    "papermill": {
     "duration": 0.041346,
     "end_time": "2022-02-12T20:38:39.144885",
     "exception": false,
     "start_time": "2022-02-12T20:38:39.103539",
     "status": "completed"
    },
    "tags": []
   },
   "outputs": [
    {
     "name": "stdout",
     "output_type": "stream",
     "text": [
      "0        2\n",
      "1        2\n",
      "2        2\n",
      "3        2\n",
      "4        2\n",
      "        ..\n",
      "10010    0\n",
      "10011    0\n",
      "10012    0\n",
      "10013    0\n",
      "10014    6\n",
      "Name: label, Length: 10015, dtype: int64\n",
      "0        2\n",
      "1        2\n",
      "2        2\n",
      "3        2\n",
      "4        2\n",
      "        ..\n",
      "10010    0\n",
      "10011    0\n",
      "10012    0\n",
      "10013    0\n",
      "10014    6\n",
      "Name: label, Length: 10015, dtype: int64\n"
     ]
    }
   ],
   "source": [
    "y = df['label']\n",
    "yo = dfo['label']#1\n",
    "\n",
    "print(y)\n",
    "print(yo)#2"
   ]
  },
  {
   "cell_type": "markdown",
   "id": "21bbeea9",
   "metadata": {
    "papermill": {
     "duration": 0.033825,
     "end_time": "2022-02-12T20:38:39.212496",
     "exception": false,
     "start_time": "2022-02-12T20:38:39.178671",
     "status": "completed"
    },
    "tags": []
   },
   "source": [
    "et les caractéristiques X :"
   ]
  },
  {
   "cell_type": "code",
   "execution_count": 10,
   "id": "6dda0571",
   "metadata": {
    "execution": {
     "iopub.execute_input": "2022-02-12T20:38:39.325440Z",
     "iopub.status.busy": "2022-02-12T20:38:39.324550Z",
     "iopub.status.idle": "2022-02-12T20:38:39.326675Z",
     "shell.execute_reply": "2022-02-12T20:38:39.327070Z",
     "shell.execute_reply.started": "2022-02-12T20:31:03.382202Z"
    },
    "papermill": {
     "duration": 0.080357,
     "end_time": "2022-02-12T20:38:39.327223",
     "exception": false,
     "start_time": "2022-02-12T20:38:39.246866",
     "status": "completed"
    },
    "tags": []
   },
   "outputs": [
    {
     "name": "stdout",
     "output_type": "stream",
     "text": [
      "       pixel0000  pixel0001  pixel0002  pixel0003  pixel0004  pixel0005  \\\n",
      "0            169        171        170        177        181        182   \n",
      "1             19         57        105        140        149        148   \n",
      "2            155        163        161        167        167        172   \n",
      "3             25         71        116        139        136        153   \n",
      "4            129        162        181        196        205        208   \n",
      "...          ...        ...        ...        ...        ...        ...   \n",
      "10010        172        171        173        175        164        187   \n",
      "10011          2         34        108        116        114        119   \n",
      "10012        122        154        162        170        179        197   \n",
      "10013        137        143        141        139        147        152   \n",
      "10014        149        157        157        152        151        152   \n",
      "\n",
      "       pixel0006  pixel0007  pixel0008  pixel0009  ...  pixel0774  pixel0775  \\\n",
      "0            181        185        194        192  ...        176        184   \n",
      "1            144        155        170        170  ...        181        172   \n",
      "2            155        152        165        175  ...        162        163   \n",
      "3            148        161        172        162  ...        142        125   \n",
      "4            205        213        225        224  ...        211        210   \n",
      "...          ...        ...        ...        ...  ...        ...        ...   \n",
      "10010        207        210        208        206  ...        210        210   \n",
      "10011        131        139        139        145  ...        184        173   \n",
      "10012        200        195        202        199  ...        223        221   \n",
      "10013        155        152        155        159  ...        178        172   \n",
      "10014        154        163        149        145  ...        166        159   \n",
      "\n",
      "       pixel0776  pixel0777  pixel0778  pixel0779  pixel0780  pixel0781  \\\n",
      "0            186        185        180        157        140        140   \n",
      "1            175        160        144        114         89         47   \n",
      "2            178        157        166        167        148        141   \n",
      "3            135        138        137        111         71         32   \n",
      "4            197        172        190        195        193        181   \n",
      "...          ...        ...        ...        ...        ...        ...   \n",
      "10010        217        221        209        185        187        192   \n",
      "10011        169        168        168        143        138         83   \n",
      "10012        215        205        187        209        198        187   \n",
      "10013        171        175        183        177        170        169   \n",
      "10014        154        145        106         67         62        103   \n",
      "\n",
      "       pixel0782  pixel0783  \n",
      "0            159        165  \n",
      "1             18         18  \n",
      "2            136        115  \n",
      "3             16         16  \n",
      "4            147         88  \n",
      "...          ...        ...  \n",
      "10010        192        192  \n",
      "10011         23          3  \n",
      "10012        164        156  \n",
      "10013        166        170  \n",
      "10014        146        148  \n",
      "\n",
      "[10015 rows x 784 columns]\n",
      "       pixel0000  pixel0001  pixel0002  pixel0003  pixel0004  pixel0005  \\\n",
      "0            169        171        170        177        181        182   \n",
      "1             19         57        105        140        149        148   \n",
      "2            155        163        161        167        167        172   \n",
      "3             25         71        116        139        136        153   \n",
      "4            129        162        181        196        205        208   \n",
      "...          ...        ...        ...        ...        ...        ...   \n",
      "10010        172        171        173        175        164        187   \n",
      "10011          2         34        108        116        114        119   \n",
      "10012        122        154        162        170        179        197   \n",
      "10013        137        143        141        139        147        152   \n",
      "10014        149        157        157        152        151        152   \n",
      "\n",
      "       pixel0006  pixel0007  pixel0008  pixel0009  ...  pixel0774  pixel0775  \\\n",
      "0            181        185        194        192  ...        176        184   \n",
      "1            144        155        170        170  ...        181        172   \n",
      "2            155        152        165        175  ...        162        163   \n",
      "3            148        161        172        162  ...        142        125   \n",
      "4            205        213        225        224  ...        211        210   \n",
      "...          ...        ...        ...        ...  ...        ...        ...   \n",
      "10010        207        210        208        206  ...        210        210   \n",
      "10011        131        139        139        145  ...        184        173   \n",
      "10012        200        195        202        199  ...        223        221   \n",
      "10013        155        152        155        159  ...        178        172   \n",
      "10014        154        163        149        145  ...        166        159   \n",
      "\n",
      "       pixel0776  pixel0777  pixel0778  pixel0779  pixel0780  pixel0781  \\\n",
      "0            186        185        180        157        140        140   \n",
      "1            175        160        144        114         89         47   \n",
      "2            178        157        166        167        148        141   \n",
      "3            135        138        137        111         71         32   \n",
      "4            197        172        190        195        193        181   \n",
      "...          ...        ...        ...        ...        ...        ...   \n",
      "10010        217        221        209        185        187        192   \n",
      "10011        169        168        168        143        138         83   \n",
      "10012        215        205        187        209        198        187   \n",
      "10013        171        175        183        177        170        169   \n",
      "10014        154        145        106         67         62        103   \n",
      "\n",
      "       pixel0782  pixel0783  \n",
      "0            159        165  \n",
      "1             18         18  \n",
      "2            136        115  \n",
      "3             16         16  \n",
      "4            147         88  \n",
      "...          ...        ...  \n",
      "10010        192        192  \n",
      "10011         23          3  \n",
      "10012        164        156  \n",
      "10013        166        170  \n",
      "10014        146        148  \n",
      "\n",
      "[10015 rows x 784 columns]\n"
     ]
    }
   ],
   "source": [
    "X = df.drop(['label'], axis=1)\n",
    "Xo = dfo.drop(['label'], axis=1)#1\n",
    "print(X)\n",
    "print(Xo)#2"
   ]
  },
  {
   "cell_type": "markdown",
   "id": "07c3a23f",
   "metadata": {
    "papermill": {
     "duration": 0.049797,
     "end_time": "2022-02-12T20:38:39.412042",
     "exception": false,
     "start_time": "2022-02-12T20:38:39.362245",
     "status": "completed"
    },
    "tags": []
   },
   "source": [
    "On normalise les valeurs entre 0 et 1:"
   ]
  },
  {
   "cell_type": "code",
   "execution_count": 11,
   "id": "24332c43",
   "metadata": {
    "execution": {
     "iopub.execute_input": "2022-02-12T20:38:39.551662Z",
     "iopub.status.busy": "2022-02-12T20:38:39.550828Z",
     "iopub.status.idle": "2022-02-12T20:38:39.585422Z",
     "shell.execute_reply": "2022-02-12T20:38:39.584285Z",
     "shell.execute_reply.started": "2022-02-12T20:31:03.431674Z"
    },
    "papermill": {
     "duration": 0.113734,
     "end_time": "2022-02-12T20:38:39.585583",
     "exception": false,
     "start_time": "2022-02-12T20:38:39.471849",
     "status": "completed"
    },
    "tags": []
   },
   "outputs": [],
   "source": [
    "X = X/255"
   ]
  },
  {
   "cell_type": "markdown",
   "id": "3340f6d3",
   "metadata": {
    "papermill": {
     "duration": 0.05459,
     "end_time": "2022-02-12T20:38:39.693309",
     "exception": false,
     "start_time": "2022-02-12T20:38:39.638719",
     "status": "completed"
    },
    "tags": []
   },
   "source": [
    "On peut maintenant appliquer les méthodes de machine learning."
   ]
  },
  {
   "cell_type": "code",
   "execution_count": 12,
   "id": "15c29a19",
   "metadata": {
    "execution": {
     "iopub.execute_input": "2022-02-12T20:38:39.806434Z",
     "iopub.status.busy": "2022-02-12T20:38:39.805610Z",
     "iopub.status.idle": "2022-02-12T20:38:39.807709Z",
     "shell.execute_reply": "2022-02-12T20:38:39.807109Z",
     "shell.execute_reply.started": "2022-02-12T20:31:03.471713Z"
    },
    "papermill": {
     "duration": 0.060757,
     "end_time": "2022-02-12T20:38:39.807874",
     "exception": false,
     "start_time": "2022-02-12T20:38:39.747117",
     "status": "completed"
    },
    "tags": []
   },
   "outputs": [],
   "source": [
    "num_classes = 7"
   ]
  },
  {
   "cell_type": "markdown",
   "id": "8cff631c",
   "metadata": {
    "papermill": {
     "duration": 0.051362,
     "end_time": "2022-02-12T20:38:39.913678",
     "exception": false,
     "start_time": "2022-02-12T20:38:39.862316",
     "status": "completed"
    },
    "tags": []
   },
   "source": [
    "il y a 7 classes."
   ]
  },
  {
   "cell_type": "code",
   "execution_count": 13,
   "id": "cc3f0781",
   "metadata": {
    "execution": {
     "iopub.execute_input": "2022-02-12T20:38:40.152173Z",
     "iopub.status.busy": "2022-02-12T20:38:40.151249Z",
     "iopub.status.idle": "2022-02-12T20:38:44.480043Z",
     "shell.execute_reply": "2022-02-12T20:38:44.480538Z",
     "shell.execute_reply.started": "2022-02-12T20:31:03.480680Z"
    },
    "papermill": {
     "duration": 4.392578,
     "end_time": "2022-02-12T20:38:44.480702",
     "exception": false,
     "start_time": "2022-02-12T20:38:40.088124",
     "status": "completed"
    },
    "tags": []
   },
   "outputs": [
    {
     "data": {
      "text/plain": [
       "'from tensorflow.keras.utils import to_categorical'"
      ]
     },
     "execution_count": 13,
     "metadata": {},
     "output_type": "execute_result"
    }
   ],
   "source": [
    "\"\"\"from tensorflow.keras.utils import to_categorical\"\"\""
   ]
  },
  {
   "cell_type": "code",
   "execution_count": 14,
   "id": "2014455b",
   "metadata": {
    "execution": {
     "iopub.execute_input": "2022-02-12T20:38:44.555797Z",
     "iopub.status.busy": "2022-02-12T20:38:44.554917Z",
     "iopub.status.idle": "2022-02-12T20:38:44.558841Z",
     "shell.execute_reply": "2022-02-12T20:38:44.559300Z",
     "shell.execute_reply.started": "2022-02-12T20:31:03.492676Z"
    },
    "papermill": {
     "duration": 0.044166,
     "end_time": "2022-02-12T20:38:44.559451",
     "exception": false,
     "start_time": "2022-02-12T20:38:44.515285",
     "status": "completed"
    },
    "tags": []
   },
   "outputs": [
    {
     "data": {
      "text/plain": [
       "'print(y[0])\\ny_cat = to_categorical(y)\\nto_categorical(yo)\\nprint(y_cat[0])'"
      ]
     },
     "execution_count": 14,
     "metadata": {},
     "output_type": "execute_result"
    }
   ],
   "source": [
    "\"\"\"print(y[0])\n",
    "y_cat = to_categorical(y)\n",
    "to_categorical(yo)\n",
    "print(y_cat[0])\"\"\""
   ]
  },
  {
   "cell_type": "markdown",
   "id": "b6237ca9",
   "metadata": {
    "papermill": {
     "duration": 0.033975,
     "end_time": "2022-02-12T20:38:44.627576",
     "exception": false,
     "start_time": "2022-02-12T20:38:44.593601",
     "status": "completed"
    },
    "tags": []
   },
   "source": [
    "On sépare train et test :"
   ]
  },
  {
   "cell_type": "code",
   "execution_count": 15,
   "id": "e6a1813e",
   "metadata": {
    "execution": {
     "iopub.execute_input": "2022-02-12T20:38:45.146828Z",
     "iopub.status.busy": "2022-02-12T20:38:45.145991Z",
     "iopub.status.idle": "2022-02-12T20:38:45.269818Z",
     "shell.execute_reply": "2022-02-12T20:38:45.270718Z",
     "shell.execute_reply.started": "2022-02-12T20:31:03.513957Z"
    },
    "papermill": {
     "duration": 0.193352,
     "end_time": "2022-02-12T20:38:45.271007",
     "exception": false,
     "start_time": "2022-02-12T20:38:45.077655",
     "status": "completed"
    },
    "tags": []
   },
   "outputs": [],
   "source": [
    "from sklearn.model_selection import train_test_split\n",
    "\n",
    "X_traino, X_testo, y_traino, y_testo = train_test_split(Xo, yo, test_size=0.2, random_state=1)"
   ]
  },
  {
   "cell_type": "markdown",
   "id": "b295cbcb",
   "metadata": {
    "papermill": {
     "duration": 0.062324,
     "end_time": "2022-02-12T20:38:45.397267",
     "exception": false,
     "start_time": "2022-02-12T20:38:45.334943",
     "status": "completed"
    },
    "tags": []
   },
   "source": [
    "### XGBoost"
   ]
  },
  {
   "cell_type": "markdown",
   "id": "8cde5b33",
   "metadata": {
    "papermill": {
     "duration": 0.055742,
     "end_time": "2022-02-12T20:38:45.509947",
     "exception": false,
     "start_time": "2022-02-12T20:38:45.454205",
     "status": "completed"
    },
    "tags": []
   },
   "source": [
    "La méthode XGBoost est dérivée des arbres de décision, et très efficace, en particulier pour de grandes quantités de données.\n",
    "\n",
    "C’est avant tout une approche pragmatique qui permet donc de gérer des problèmes de régression comme de classification.\n",
    "\n",
    "Pour décrire succinctement le principe, le l’algorithme travaille de manière séquentielle. Contrairement par exemple au Random Forest. cete façon de faire va le rendre plus lent bien sur mais il va surtout permettre à l’algorithme de s’améliorer par capitalisation par rapport aux exécutions précédentes. Il commence donc par construire un premier modèle qu’il va bien sur évaluer (on est bien sur de l’apprentissage supervisé). A partir de cette première évaluation, chaque individu va être alors pondérée en fonction de la performance de la prédiction. Etc."
   ]
  },
  {
   "cell_type": "code",
   "execution_count": 16,
   "id": "395cd297",
   "metadata": {
    "execution": {
     "iopub.execute_input": "2022-02-12T20:38:45.616792Z",
     "iopub.status.busy": "2022-02-12T20:38:45.616008Z",
     "iopub.status.idle": "2022-02-12T20:38:54.105601Z",
     "shell.execute_reply": "2022-02-12T20:38:54.104886Z",
     "shell.execute_reply.started": "2022-02-12T20:31:03.604456Z"
    },
    "papermill": {
     "duration": 8.539231,
     "end_time": "2022-02-12T20:38:54.105771",
     "exception": false,
     "start_time": "2022-02-12T20:38:45.566540",
     "status": "completed"
    },
    "tags": []
   },
   "outputs": [
    {
     "name": "stdout",
     "output_type": "stream",
     "text": [
      "Requirement already satisfied: xgboost in c:\\users\\wissal\\anaconda3\\lib\\site-packages (1.5.2)\n",
      "Requirement already satisfied: numpy in c:\\users\\wissal\\anaconda3\\lib\\site-packages (from xgboost) (1.21.2)\n",
      "Requirement already satisfied: scipy in c:\\users\\wissal\\anaconda3\\lib\\site-packages (from xgboost) (1.7.3)\n"
     ]
    }
   ],
   "source": [
    "!pip install xgboost"
   ]
  },
  {
   "cell_type": "code",
   "execution_count": 17,
   "id": "7c217d53",
   "metadata": {
    "execution": {
     "iopub.execute_input": "2022-02-12T20:38:54.182108Z",
     "iopub.status.busy": "2022-02-12T20:38:54.181426Z",
     "iopub.status.idle": "2022-02-12T20:42:09.290707Z",
     "shell.execute_reply": "2022-02-12T20:42:09.290032Z",
     "shell.execute_reply.started": "2022-02-12T20:31:11.128746Z"
    },
    "papermill": {
     "duration": 195.149565,
     "end_time": "2022-02-12T20:42:09.290891",
     "exception": false,
     "start_time": "2022-02-12T20:38:54.141326",
     "status": "completed"
    },
    "tags": []
   },
   "outputs": [
    {
     "name": "stderr",
     "output_type": "stream",
     "text": [
      "C:\\Users\\wissal\\anaconda3\\lib\\site-packages\\xgboost\\sklearn.py:1224: UserWarning: The use of label encoder in XGBClassifier is deprecated and will be removed in a future release. To remove this warning, do the following: 1) Pass option use_label_encoder=False when constructing XGBClassifier object; and 2) Encode your labels (y) as integers starting with 0, i.e. 0, 1, 2, ..., [num_class - 1].\n",
      "  warnings.warn(label_encoder_deprecation_msg, UserWarning)\n"
     ]
    },
    {
     "name": "stdout",
     "output_type": "stream",
     "text": [
      "[02:18:42] WARNING: C:/Users/Administrator/workspace/xgboost-win64_release_1.5.1/src/learner.cc:1115: Starting in XGBoost 1.3.0, the default evaluation metric used with the objective 'multi:softprob' was changed from 'merror' to 'mlogloss'. Explicitly set eval_metric if you'd like to restore the old behavior.\n",
      "[[  11    7   16    0   26    0    1]\n",
      " [   2   14   11    0   67    0    2]\n",
      " [   6    7   69    0  126    0   20]\n",
      " [   1    4   10    0   22    0    0]\n",
      " [   1    7   27    1 1277    0   14]\n",
      " [   1    1    1    0   27    0    2]\n",
      " [   0    1   18    0  164    0   39]]\n",
      "              precision    recall  f1-score   support\n",
      "\n",
      "           0       0.50      0.18      0.27        61\n",
      "           1       0.34      0.15      0.20        96\n",
      "           2       0.45      0.30      0.36       228\n",
      "           3       0.00      0.00      0.00        37\n",
      "           4       0.75      0.96      0.84      1327\n",
      "           5       0.00      0.00      0.00        32\n",
      "           6       0.50      0.18      0.26       222\n",
      "\n",
      "    accuracy                           0.70      2003\n",
      "   macro avg       0.36      0.25      0.28      2003\n",
      "weighted avg       0.63      0.70      0.65      2003\n",
      "\n"
     ]
    },
    {
     "name": "stderr",
     "output_type": "stream",
     "text": [
      "C:\\Users\\wissal\\anaconda3\\lib\\site-packages\\sklearn\\metrics\\_classification.py:1245: UndefinedMetricWarning: Precision and F-score are ill-defined and being set to 0.0 in labels with no predicted samples. Use `zero_division` parameter to control this behavior.\n",
      "  _warn_prf(average, modifier, msg_start, len(result))\n",
      "C:\\Users\\wissal\\anaconda3\\lib\\site-packages\\sklearn\\metrics\\_classification.py:1245: UndefinedMetricWarning: Precision and F-score are ill-defined and being set to 0.0 in labels with no predicted samples. Use `zero_division` parameter to control this behavior.\n",
      "  _warn_prf(average, modifier, msg_start, len(result))\n",
      "C:\\Users\\wissal\\anaconda3\\lib\\site-packages\\sklearn\\metrics\\_classification.py:1245: UndefinedMetricWarning: Precision and F-score are ill-defined and being set to 0.0 in labels with no predicted samples. Use `zero_division` parameter to control this behavior.\n",
      "  _warn_prf(average, modifier, msg_start, len(result))\n"
     ]
    }
   ],
   "source": [
    "import xgboost as XGB\n",
    "xgb  = XGB.XGBClassifier()\n",
    "xgb.fit(X_traino, y_traino)\n",
    "y_xgb = xgb.predict(X_testo)\n",
    "cm = confusion_matrix(y_testo, y_xgb)\n",
    "print(cm)\n",
    "print(classification_report(y_testo, y_xgb))"
   ]
  },
  {
   "cell_type": "markdown",
   "id": "630f31a3",
   "metadata": {
    "papermill": {
     "duration": 0.036087,
     "end_time": "2022-02-12T20:42:09.363722",
     "exception": false,
     "start_time": "2022-02-12T20:42:09.327635",
     "status": "completed"
    },
    "tags": []
   },
   "source": [
    "La précision de cette algorithme est de 0,70 ce qui est correct pour une classification avec autant d'outputs."
   ]
  }
 ],
 "metadata": {
  "kernelspec": {
   "display_name": "Python 3",
   "language": "python",
   "name": "python3"
  },
  "language_info": {
   "codemirror_mode": {
    "name": "ipython",
    "version": 3
   },
   "file_extension": ".py",
   "mimetype": "text/x-python",
   "name": "python",
   "nbconvert_exporter": "python",
   "pygments_lexer": "ipython3",
   "version": "3.8.8"
  },
  "papermill": {
   "default_parameters": {},
   "duration": 322.667852,
   "end_time": "2022-02-12T20:43:46.922071",
   "environment_variables": {},
   "exception": null,
   "input_path": "__notebook__.ipynb",
   "output_path": "__notebook__.ipynb",
   "parameters": {},
   "start_time": "2022-02-12T20:38:24.254219",
   "version": "2.3.3"
  }
 },
 "nbformat": 4,
 "nbformat_minor": 5
}
