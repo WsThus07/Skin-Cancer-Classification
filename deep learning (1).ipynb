{
 "cells": [
  {
   "cell_type": "code",
   "execution_count": 1,
   "id": "5315a8a7",
   "metadata": {},
   "outputs": [],
   "source": [
    "import matplotlib.pyplot as plt\n",
    "import numpy as np\n",
    "import pandas as pd\n",
    "import os\n",
    "from glob import glob\n",
    "import seaborn as sns\n",
    "from PIL import Image\n",
    "\n",
    "from sklearn.metrics import confusion_matrix\n",
    "\n",
    "import tensorflow\n",
    "from tensorflow.keras.utils import to_categorical\n",
    "from tensorflow.keras.models import Sequential\n",
    "\n",
    "\n",
    "from  tensorflow.keras.layers import Dense, Dropout, Flatten, Conv2D, MaxPool2D, BatchNormalization\n",
    "from sklearn.model_selection import train_test_split\n",
    "from scipy import stats\n",
    "from sklearn.preprocessing import LabelEncoder\n",
    "from skimage.transform import resize\n",
    "\n",
    "from sklearn.utils import resample\n",
    "\n"
   ]
  },
  {
   "cell_type": "markdown",
   "id": "f15a35eb",
   "metadata": {},
   "source": [
    "Toutes les constantes sont initiés ici."
   ]
  },
  {
   "cell_type": "code",
   "execution_count": null,
   "id": "82c24af8",
   "metadata": {},
   "outputs": [],
   "source": [
    "SIZE = 32\n",
    "n_samples = 500\n",
    "num_classes = 7\n",
    "batch_size = 16\n",
    "epochs = 50\n",
    "path = r'C:\\Users\\DELL\\Desktop\\IRM\\BDM PROJET\\DATA'\n"
   ]
  },
  {
   "cell_type": "markdown",
   "id": "4e140f64",
   "metadata": {},
   "source": [
    "Importation de la base de données."
   ]
  },
  {
   "cell_type": "code",
   "execution_count": 2,
   "id": "1392d5fd",
   "metadata": {},
   "outputs": [
    {
     "name": "stdout",
     "output_type": "stream",
     "text": [
      "['akiec', 'bcc', 'bkl', 'df', 'mel', 'nv', 'vasc']\n"
     ]
    }
   ],
   "source": [
    "# On utiliseras le fichier HAM10000_metadata, la lecture des images se fera donc manuellement.\n",
    "skin_df = pd.read_csv(path+'\\HAM10000_metadata.csv')\n",
    "\n",
    "# Affichage des classes disponibles\n",
    "le = LabelEncoder()\n",
    "le.fit(skin_df['dx'])\n",
    "skin_df['label'] = le.transform(skin_df[\"dx\"])"
   ]
  },
  {
   "cell_type": "markdown",
   "id": "a0e685bd",
   "metadata": {},
   "source": [
    "À ce stade, on aperçois que la base de données est mal répartie, ainsi, on essaie de balancer les classes :"
   ]
  },
  {
   "cell_type": "code",
   "execution_count": null,
   "id": "af115bf0",
   "metadata": {},
   "outputs": [],
   "source": [
    "df = [skin_df[skin_df['label'] == i] for i in range(num_classes)]\n",
    "df_balanced = [resample(i, replace=True, n_samples, random_state=42) for i in df]\n",
    "\n",
    "# Puis on rassemble le tout\n",
    "skin_df_balanced = pd.concat(df_balanced)"
   ]
  },
  {
   "cell_type": "markdown",
   "id": "c970bd21",
   "metadata": {},
   "source": [
    "Une fois la data est bien balancée, il est temps d'importer les images dans notre variable"
   ]
  },
  {
   "cell_type": "code",
   "execution_count": 7,
   "id": "19bf18d6",
   "metadata": {},
   "outputs": [],
   "source": [
    "image_path = {os.path.splitext(os.path.basename(x))[0]: x\n",
    "              for x in glob(os.path.join(path, '*', '*.jpg'))}\n",
    "\n",
    "# On rajoute une colonne path pour stocker les paths des images\n",
    "skin_df_balanced['path'] = skin_df['image_id'].map(image_path.get)\n",
    "\n",
    "# On rajoute une colonne image pour stocker les pixels des images après redimensionnement\n",
    "skin_df_balanced['image'] = skin_df_balanced['path'].map(\n",
    "    lambda x: np.asarray(\n",
    "        Image.open(x).resize((SIZE, SIZE))\n",
    "    )\n",
    ")\n"
   ]
  },
  {
   "cell_type": "code",
   "execution_count": 9,
   "id": "81c948b1",
   "metadata": {},
   "outputs": [],
   "source": [
    "#Convert dataframe column of images into numpy array\n",
    "X = np.asarray(skin_df_balanced['image'].tolist())\n",
    "X = X/255.  # Scale values to 0-1. You can also used standardscaler or other scaling methods.\n",
    "Y=skin_df_balanced['label']  #Assign label values to Y\n",
    "Y_cat = to_categorical(Y, num_classes=7) #Convert to categorical as this is a multiclass classification problem\n",
    "#Split to training and testing\n",
    "x_train, x_test, y_train, y_test = train_test_split(X, Y_cat, test_size=0.25, random_state=42)"
   ]
  },
  {
   "cell_type": "code",
   "execution_count": 10,
   "id": "8e08af9d",
   "metadata": {},
   "outputs": [
    {
     "name": "stdout",
     "output_type": "stream",
     "text": [
      "Model: \"sequential\"\n",
      "_________________________________________________________________\n",
      " Layer (type)                Output Shape              Param #   \n",
      "=================================================================\n",
      " conv2d (Conv2D)             (None, 30, 30, 256)       7168      \n",
      "                                                                 \n",
      " max_pooling2d (MaxPooling2D  (None, 15, 15, 256)      0         \n",
      " )                                                               \n",
      "                                                                 \n",
      " dropout (Dropout)           (None, 15, 15, 256)       0         \n",
      "                                                                 \n",
      " conv2d_1 (Conv2D)           (None, 13, 13, 128)       295040    \n",
      "                                                                 \n",
      " max_pooling2d_1 (MaxPooling  (None, 6, 6, 128)        0         \n",
      " 2D)                                                             \n",
      "                                                                 \n",
      " dropout_1 (Dropout)         (None, 6, 6, 128)         0         \n",
      "                                                                 \n",
      " conv2d_2 (Conv2D)           (None, 4, 4, 64)          73792     \n",
      "                                                                 \n",
      " max_pooling2d_2 (MaxPooling  (None, 2, 2, 64)         0         \n",
      " 2D)                                                             \n",
      "                                                                 \n",
      " dropout_2 (Dropout)         (None, 2, 2, 64)          0         \n",
      "                                                                 \n",
      " flatten (Flatten)           (None, 256)               0         \n",
      "                                                                 \n",
      " dense (Dense)               (None, 32)                8224      \n",
      "                                                                 \n",
      " dense_1 (Dense)             (None, 7)                 231       \n",
      "                                                                 \n",
      "=================================================================\n",
      "Total params: 384,455\n",
      "Trainable params: 384,455\n",
      "Non-trainable params: 0\n",
      "_________________________________________________________________\n"
     ]
    }
   ],
   "source": [
    "#Define the model.\n",
    "#I've used autokeras to find out the best model for this problem.\n",
    "#You can also load pretrained networks such as mobilenet or VGG16\n",
    "\n",
    "\n",
    "model = Sequential()\n",
    "model.add(Conv2D(256, (3, 3), activation=\"relu\", input_shape=(SIZE, SIZE, 3)))\n",
    "\n",
    "model.add(MaxPool2D(pool_size=(2, 2)))  \n",
    "model.add(Dropout(0.3))\n",
    "\n",
    "model.add(Conv2D(128, (3, 3),activation='relu'))\n",
    "\n",
    "model.add(MaxPool2D(pool_size=(2, 2)))  \n",
    "model.add(Dropout(0.3))\n",
    "\n",
    "model.add(Conv2D(64, (3, 3),activation='relu'))\n",
    "\n",
    "model.add(MaxPool2D(pool_size=(2, 2)))  \n",
    "model.add(Dropout(0.3))\n",
    "model.add(Flatten())\n",
    "\n",
    "model.add(Dense(32))\n",
    "model.add(Dense(7, activation='softmax'))\n",
    "model.summary()\n",
    "\n",
    "model.compile(loss='categorical_crossentropy', optimizer='Adam', metrics=['acc'])\n",
    "\n"
   ]
  },
  {
   "cell_type": "code",
   "execution_count": 24,
   "id": "f9cb4bce",
   "metadata": {},
   "outputs": [
    {
     "name": "stdout",
     "output_type": "stream",
     "text": [
      "Epoch 1/50\n",
      "165/165 - 28s - loss: 1.5610 - acc: 0.3589 - val_loss: 1.5314 - val_acc: 0.3577 - 28s/epoch - 171ms/step\n",
      "Epoch 2/50\n",
      "165/165 - 28s - loss: 1.4891 - acc: 0.3768 - val_loss: 1.4520 - val_acc: 0.3874 - 28s/epoch - 170ms/step\n",
      "Epoch 3/50\n",
      "165/165 - 29s - loss: 1.4447 - acc: 0.4057 - val_loss: 1.4189 - val_acc: 0.4091 - 29s/epoch - 174ms/step\n",
      "Epoch 4/50\n",
      "165/165 - 29s - loss: 1.3768 - acc: 0.4430 - val_loss: 1.3727 - val_acc: 0.4514 - 29s/epoch - 177ms/step\n",
      "Epoch 5/50\n",
      "165/165 - 28s - loss: 1.3646 - acc: 0.4510 - val_loss: 1.3263 - val_acc: 0.4457 - 28s/epoch - 171ms/step\n",
      "Epoch 6/50\n",
      "165/165 - 29s - loss: 1.3362 - acc: 0.4747 - val_loss: 1.2443 - val_acc: 0.4926 - 29s/epoch - 178ms/step\n",
      "Epoch 7/50\n",
      "165/165 - 28s - loss: 1.2886 - acc: 0.4811 - val_loss: 1.2149 - val_acc: 0.5120 - 28s/epoch - 172ms/step\n",
      "Epoch 8/50\n",
      "165/165 - 30s - loss: 1.2741 - acc: 0.4968 - val_loss: 1.2597 - val_acc: 0.5143 - 30s/epoch - 180ms/step\n",
      "Epoch 9/50\n",
      "165/165 - 29s - loss: 1.2636 - acc: 0.5067 - val_loss: 1.2056 - val_acc: 0.5131 - 29s/epoch - 173ms/step\n",
      "Epoch 10/50\n",
      "165/165 - 30s - loss: 1.1866 - acc: 0.5291 - val_loss: 1.1876 - val_acc: 0.5291 - 30s/epoch - 179ms/step\n",
      "Epoch 11/50\n",
      "165/165 - 29s - loss: 1.1736 - acc: 0.5390 - val_loss: 1.1442 - val_acc: 0.5394 - 29s/epoch - 178ms/step\n",
      "Epoch 12/50\n",
      "165/165 - 28s - loss: 1.1397 - acc: 0.5661 - val_loss: 1.1256 - val_acc: 0.5669 - 28s/epoch - 171ms/step\n",
      "Epoch 13/50\n",
      "165/165 - 29s - loss: 1.1337 - acc: 0.5634 - val_loss: 1.1479 - val_acc: 0.5829 - 29s/epoch - 174ms/step\n",
      "Epoch 14/50\n",
      "165/165 - 30s - loss: 1.1153 - acc: 0.5657 - val_loss: 1.1544 - val_acc: 0.5394 - 30s/epoch - 179ms/step\n",
      "Epoch 15/50\n",
      "165/165 - 28s - loss: 1.1060 - acc: 0.5707 - val_loss: 1.0686 - val_acc: 0.5829 - 28s/epoch - 171ms/step\n",
      "Epoch 16/50\n",
      "165/165 - 30s - loss: 1.0876 - acc: 0.5768 - val_loss: 1.1045 - val_acc: 0.5566 - 30s/epoch - 179ms/step\n",
      "Epoch 17/50\n",
      "165/165 - 28s - loss: 1.0722 - acc: 0.5787 - val_loss: 1.0582 - val_acc: 0.6034 - 28s/epoch - 171ms/step\n",
      "Epoch 18/50\n",
      "165/165 - 31s - loss: 1.0402 - acc: 0.6038 - val_loss: 1.0464 - val_acc: 0.5863 - 31s/epoch - 185ms/step\n",
      "Epoch 19/50\n",
      "165/165 - 29s - loss: 1.0251 - acc: 0.6076 - val_loss: 1.0247 - val_acc: 0.6149 - 29s/epoch - 175ms/step\n",
      "Epoch 20/50\n",
      "165/165 - 28s - loss: 1.0028 - acc: 0.6088 - val_loss: 1.0480 - val_acc: 0.5909 - 28s/epoch - 168ms/step\n",
      "Epoch 21/50\n",
      "165/165 - 30s - loss: 1.0042 - acc: 0.6164 - val_loss: 1.1166 - val_acc: 0.5669 - 30s/epoch - 179ms/step\n",
      "Epoch 22/50\n",
      "165/165 - 28s - loss: 0.9586 - acc: 0.6305 - val_loss: 0.9786 - val_acc: 0.6297 - 28s/epoch - 171ms/step\n",
      "Epoch 23/50\n",
      "165/165 - 30s - loss: 0.9468 - acc: 0.6404 - val_loss: 0.9932 - val_acc: 0.6286 - 30s/epoch - 179ms/step\n",
      "Epoch 24/50\n",
      "165/165 - 29s - loss: 0.9424 - acc: 0.6427 - val_loss: 0.9667 - val_acc: 0.6400 - 29s/epoch - 174ms/step\n",
      "Epoch 25/50\n",
      "165/165 - 29s - loss: 0.9302 - acc: 0.6568 - val_loss: 0.9834 - val_acc: 0.6286 - 29s/epoch - 179ms/step\n",
      "Epoch 26/50\n",
      "165/165 - 28s - loss: 0.9107 - acc: 0.6438 - val_loss: 0.9647 - val_acc: 0.6286 - 28s/epoch - 171ms/step\n",
      "Epoch 27/50\n",
      "165/165 - 29s - loss: 0.9113 - acc: 0.6606 - val_loss: 0.9942 - val_acc: 0.6286 - 29s/epoch - 173ms/step\n",
      "Epoch 28/50\n",
      "165/165 - 28s - loss: 0.8568 - acc: 0.6720 - val_loss: 0.8961 - val_acc: 0.6571 - 28s/epoch - 173ms/step\n",
      "Epoch 29/50\n",
      "165/165 - 32s - loss: 0.9057 - acc: 0.6541 - val_loss: 0.8814 - val_acc: 0.6857 - 32s/epoch - 192ms/step\n",
      "Epoch 30/50\n",
      "165/165 - 29s - loss: 0.8741 - acc: 0.6728 - val_loss: 0.9053 - val_acc: 0.6789 - 29s/epoch - 174ms/step\n",
      "Epoch 31/50\n",
      "165/165 - 28s - loss: 0.8589 - acc: 0.6728 - val_loss: 0.8843 - val_acc: 0.6846 - 28s/epoch - 172ms/step\n",
      "Epoch 32/50\n",
      "165/165 - 28s - loss: 0.8506 - acc: 0.6735 - val_loss: 0.9390 - val_acc: 0.6766 - 28s/epoch - 171ms/step\n",
      "Epoch 33/50\n",
      "165/165 - 29s - loss: 0.8557 - acc: 0.6758 - val_loss: 0.9317 - val_acc: 0.6549 - 29s/epoch - 176ms/step\n",
      "Epoch 34/50\n",
      "165/165 - 29s - loss: 0.8231 - acc: 0.6804 - val_loss: 0.8773 - val_acc: 0.7074 - 29s/epoch - 178ms/step\n",
      "Epoch 35/50\n",
      "165/165 - 29s - loss: 0.8068 - acc: 0.7059 - val_loss: 0.9076 - val_acc: 0.6674 - 29s/epoch - 174ms/step\n",
      "Epoch 36/50\n",
      "165/165 - 28s - loss: 0.8107 - acc: 0.6922 - val_loss: 0.8641 - val_acc: 0.6800 - 28s/epoch - 173ms/step\n",
      "Epoch 37/50\n",
      "165/165 - 28s - loss: 0.8239 - acc: 0.6937 - val_loss: 0.8272 - val_acc: 0.7200 - 28s/epoch - 172ms/step\n",
      "Epoch 38/50\n",
      "165/165 - 28s - loss: 0.8061 - acc: 0.6987 - val_loss: 0.8161 - val_acc: 0.7143 - 28s/epoch - 172ms/step\n",
      "Epoch 39/50\n",
      "165/165 - 30s - loss: 0.7713 - acc: 0.7090 - val_loss: 0.8217 - val_acc: 0.6994 - 30s/epoch - 179ms/step\n",
      "Epoch 40/50\n",
      "165/165 - 28s - loss: 0.7463 - acc: 0.7074 - val_loss: 0.9192 - val_acc: 0.6651 - 28s/epoch - 172ms/step\n",
      "Epoch 41/50\n",
      "165/165 - 28s - loss: 0.9134 - acc: 0.6537 - val_loss: 0.9035 - val_acc: 0.6777 - 28s/epoch - 172ms/step\n",
      "Epoch 42/50\n",
      "165/165 - 28s - loss: 0.7554 - acc: 0.7147 - val_loss: 0.8295 - val_acc: 0.7131 - 28s/epoch - 171ms/step\n",
      "Epoch 43/50\n",
      "165/165 - 29s - loss: 0.7265 - acc: 0.7307 - val_loss: 0.8449 - val_acc: 0.7040 - 29s/epoch - 173ms/step\n",
      "Epoch 44/50\n",
      "165/165 - 29s - loss: 0.7015 - acc: 0.7451 - val_loss: 0.7983 - val_acc: 0.7269 - 29s/epoch - 174ms/step\n",
      "Epoch 45/50\n",
      "165/165 - 28s - loss: 0.7435 - acc: 0.7147 - val_loss: 0.8347 - val_acc: 0.6994 - 28s/epoch - 172ms/step\n",
      "Epoch 46/50\n",
      "165/165 - 29s - loss: 0.7494 - acc: 0.7006 - val_loss: 0.8719 - val_acc: 0.6731 - 29s/epoch - 178ms/step\n",
      "Epoch 47/50\n",
      "165/165 - 28s - loss: 0.7550 - acc: 0.7158 - val_loss: 0.8212 - val_acc: 0.7280 - 28s/epoch - 172ms/step\n",
      "Epoch 48/50\n",
      "165/165 - 30s - loss: 0.6781 - acc: 0.7379 - val_loss: 0.8238 - val_acc: 0.7040 - 30s/epoch - 180ms/step\n",
      "Epoch 49/50\n",
      "165/165 - 29s - loss: 0.6819 - acc: 0.7387 - val_loss: 0.7811 - val_acc: 0.7257 - 29s/epoch - 174ms/step\n",
      "Epoch 50/50\n",
      "165/165 - 28s - loss: 0.6971 - acc: 0.7356 - val_loss: 0.7676 - val_acc: 0.7326 - 28s/epoch - 172ms/step\n",
      "28/28 [==============================] - 2s 64ms/step - loss: 0.7676 - acc: 0.7326\n",
      "Test accuracy: 0.7325714230537415\n"
     ]
    }
   ],
   "source": [
    "# Train\n",
    "#You can also use generator to use augmentation during training.\n",
    "\n",
    "\n",
    "history = model.fit(\n",
    "    x_train, y_train,\n",
    "    epochs=epochs,\n",
    "    batch_size = batch_size,\n",
    "    validation_data=(x_test, y_test),\n",
    "    verbose=2)\n",
    "\n",
    "score = model.evaluate(x_test, y_test)\n",
    "print('Test accuracy:', score[1])\n",
    "\n",
    "\n",
    "#plot the training and validation accuracy and loss at each epoch\n",
    "\n"
   ]
  },
  {
   "cell_type": "code",
   "execution_count": 25,
   "id": "fddf6a85",
   "metadata": {},
   "outputs": [],
   "source": [
    "# Prediction on test data\n",
    "y_pred = model.predict(x_test)\n",
    "# Convert predictions classes to one hot vectors \n",
    "y_pred_classes = np.argmax(y_pred, axis = 1) \n",
    "# Convert test data to one hot vectors\n",
    "y_true = np.argmax(y_test, axis = 1) \n"
   ]
  },
  {
   "cell_type": "code",
   "execution_count": 26,
   "id": "c7ec74b4",
   "metadata": {},
   "outputs": [
    {
     "data": {
      "text/plain": [
       "<AxesSubplot:>"
      ]
     },
     "execution_count": 26,
     "metadata": {},
     "output_type": "execute_result"
    },
    {
     "data": {
      "image/png": "[encoded data removed]",
      "text/plain": [
       "<Figure size 432x432 with 2 Axes>"
      ]
     },
     "metadata": {},
     "output_type": "display_data"
    }
   ],
   "source": [
    "#Print confusion matrix\n",
    "cm = confusion_matrix(y_true, y_pred_classes)\n",
    "\n",
    "fig, ax = plt.subplots(figsize=(6,6))\n",
    "sns.set(font_scale=1.6)\n",
    "sns.heatmap(cm, annot=True, linewidths=.5, ax=ax)\n"
   ]
  },
  {
   "cell_type": "code",
   "execution_count": 27,
   "id": "139bc46e",
   "metadata": {},
   "outputs": [
    {
     "name": "stdout",
     "output_type": "stream",
     "text": [
      "akiec 0.7315436241610739\n",
      "bcc 0.578125\n",
      "bkl 0.6833333333333333\n",
      "df 0.9140625\n",
      "mel 0.5625\n",
      "nv 0.6460176991150443\n",
      "vasc 0.984\n"
     ]
    },
    {
     "data": {
      "text/plain": [
       "Text(0, 0.5, 'Fraction of  predictions')"
      ]
     },
     "execution_count": 27,
     "metadata": {},
     "output_type": "execute_result"
    },
    {
     "data": {
      "image/png": "[encoded data removed]",
      "text/plain": [
       "<Figure size 432x288 with 1 Axes>"
      ]
     },
     "metadata": {},
     "output_type": "display_data"
    }
   ],
   "source": [
    "\n",
    "\n",
    "#PLot fractional incorrect misclassifications\n",
    "incorr_fraction = np.diag(cm) / np.sum(cm, axis=1)\n",
    "for i in range(7) :\n",
    "    print(le.classes_[i] , incorr_fraction[i] )\n",
    "plt.bar(np.arange(7), incorr_fraction)\n",
    "plt.xlabel('True Label')\n",
    "plt.ylabel('Fraction of  predictions')"
   ]
  },
  {
   "cell_type": "code",
   "execution_count": 28,
   "id": "7446ce75",
   "metadata": {},
   "outputs": [],
   "source": [
    "path_image=r'cancer type/Test/squamous cell carcinoma/ISIC_0011726.jpg'\n",
    "new_image=plt.imread(path_image)"
   ]
  },
  {
   "cell_type": "code",
   "execution_count": 29,
   "id": "88cbc418",
   "metadata": {},
   "outputs": [],
   "source": [
    "from skimage.transform import resize\n",
    "img=resize(new_image,(32,32,3))"
   ]
  },
  {
   "cell_type": "code",
   "execution_count": 30,
   "id": "b3f01f2d",
   "metadata": {},
   "outputs": [
    {
     "data": {
      "text/plain": [
       "<matplotlib.image.AxesImage at 0x20b92233af0>"
      ]
     },
     "execution_count": 30,
     "metadata": {},
     "output_type": "execute_result"
    },
    {
     "data": {
      "image/png": "[encoded data removed]",
      "text/plain": [
       "<Figure size 432x288 with 1 Axes>"
      ]
     },
     "metadata": {},
     "output_type": "display_data"
    }
   ],
   "source": [
    "plt.imshow(img)"
   ]
  },
  {
   "cell_type": "code",
   "execution_count": 31,
   "id": "78e8eccc",
   "metadata": {},
   "outputs": [],
   "source": [
    "prediction=model.predict(np.array([img]))"
   ]
  },
  {
   "cell_type": "code",
   "execution_count": null,
   "id": "49133aca",
   "metadata": {},
   "outputs": [],
   "source": []
  },
  {
   "cell_type": "code",
   "execution_count": 32,
   "id": "c92ef74f",
   "metadata": {},
   "outputs": [
    {
     "name": "stdout",
     "output_type": "stream",
     "text": [
      "[6, 5, 4, 2, 0, 1, 3]\n"
     ]
    }
   ],
   "source": [
    "list_index=[0,1,2,3,4,5,6]\n",
    "x=prediction\n",
    "for i in range(7):\n",
    "    for j in range(7):\n",
    "        if x[0][list_index[i]] > x[0][list_index[j]] :\n",
    "            temp=list_index[i]\n",
    "            list_index[i]=list_index[j]\n",
    "            list_index[j]=temp\n",
    "print(list_index)"
   ]
  },
  {
   "cell_type": "code",
   "execution_count": 20,
   "id": "3558da5d",
   "metadata": {},
   "outputs": [
    {
     "name": "stdout",
     "output_type": "stream",
     "text": [
      "[1.         0.2421875  0.81666667 1.         0.625      0.7079646\n",
      " 0.2       ]\n"
     ]
    }
   ],
   "source": [
    "print(incorr_fraction)"
   ]
  },
  {
   "cell_type": "code",
   "execution_count": 21,
   "id": "bce82a7e",
   "metadata": {},
   "outputs": [],
   "source": [
    "classification=le.classes_"
   ]
  },
  {
   "cell_type": "code",
   "execution_count": 22,
   "id": "9de22a98",
   "metadata": {},
   "outputs": [
    {
     "name": "stdout",
     "output_type": "stream",
     "text": [
      "['vasc']\n",
      "['mel']\n",
      "['nv']\n",
      "['bkl']\n",
      "['akiec']\n",
      "['bcc']\n",
      "['df']\n"
     ]
    }
   ],
   "source": [
    "for i in range(7):\n",
    "    print([classification[list_index[i]]])"
   ]
  },
  {
   "cell_type": "code",
   "execution_count": null,
   "id": "dbf4697c",
   "metadata": {},
   "outputs": [],
   "source": []
  },
  {
   "cell_type": "code",
   "execution_count": null,
   "id": "de0d1437",
   "metadata": {},
   "outputs": [],
   "source": []
  },
  {
   "cell_type": "code",
   "execution_count": null,
   "id": "42fa98bb",
   "metadata": {},
   "outputs": [],
   "source": []
  },
  {
   "cell_type": "code",
   "execution_count": null,
   "id": "1cffb43d",
   "metadata": {},
   "outputs": [],
   "source": []
  }
 ],
 "metadata": {
  "kernelspec": {
   "display_name": "Python 3",
   "language": "python",
   "name": "python3"
  },
  "language_info": {
   "codemirror_mode": {
    "name": "ipython",
    "version": 3
   },
   "file_extension": ".py",
   "mimetype": "text/x-python",
   "name": "python",
   "nbconvert_exporter": "python",
   "pygments_lexer": "ipython3",
   "version": "3.8.8"
  }
 },
 "nbformat": 4,
 "nbformat_minor": 5
}
